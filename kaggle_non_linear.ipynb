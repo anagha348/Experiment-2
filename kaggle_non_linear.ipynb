{
  "nbformat": 4,
  "nbformat_minor": 0,
  "metadata": {
    "colab": {
      "name": "kaggle non linear.ipynb",
      "provenance": []
    },
    "kernelspec": {
      "name": "python3",
      "display_name": "Python 3"
    },
    "language_info": {
      "name": "python"
    }
  },
  "cells": [
    {
      "cell_type": "code",
      "execution_count": 22,
      "metadata": {
        "id": "tonigOQNiyPG"
      },
      "outputs": [],
      "source": [
        "import pandas as pd\n",
        "import matplotlib.pyplot as plt\n",
        "import seaborn as sns"
      ]
    },
    {
      "cell_type": "code",
      "source": [
        "dataset = pd.read_csv(\"/content/penguins_lter.csv\")\n",
        "dataset.tail()"
      ],
      "metadata": {
        "colab": {
          "base_uri": "https://localhost:8080/",
          "height": 565
        },
        "id": "aWrwKADYi6b9",
        "outputId": "679b66d4-f94c-467c-9f77-6d30730e2312"
      },
      "execution_count": 65,
      "outputs": [
        {
          "output_type": "execute_result",
          "data": {
            "text/plain": [
              "    studyName  Sample Number                            Species  Region  \\\n",
              "339   PAL0910            120  Gentoo penguin (Pygoscelis papua)  Anvers   \n",
              "340   PAL0910            121  Gentoo penguin (Pygoscelis papua)  Anvers   \n",
              "341   PAL0910            122  Gentoo penguin (Pygoscelis papua)  Anvers   \n",
              "342   PAL0910            123  Gentoo penguin (Pygoscelis papua)  Anvers   \n",
              "343   PAL0910            124  Gentoo penguin (Pygoscelis papua)  Anvers   \n",
              "\n",
              "     Island               Stage Individual ID Clutch Completion  Date Egg  \\\n",
              "339  Biscoe  Adult, 1 Egg Stage         N38A2                No   12/1/09   \n",
              "340  Biscoe  Adult, 1 Egg Stage         N39A1               Yes  11/22/09   \n",
              "341  Biscoe  Adult, 1 Egg Stage         N39A2               Yes  11/22/09   \n",
              "342  Biscoe  Adult, 1 Egg Stage         N43A1               Yes  11/22/09   \n",
              "343  Biscoe  Adult, 1 Egg Stage         N43A2               Yes  11/22/09   \n",
              "\n",
              "     Culmen Length (mm)  Culmen Depth (mm)  Flipper Length (mm)  \\\n",
              "339                 NaN                NaN                  NaN   \n",
              "340                46.8               14.3                215.0   \n",
              "341                50.4               15.7                222.0   \n",
              "342                45.2               14.8                212.0   \n",
              "343                49.9               16.1                213.0   \n",
              "\n",
              "     Body Mass (g)     Sex  Delta 15 N (o/oo)  Delta 13 C (o/oo) Comments  \n",
              "339            NaN     NaN                NaN                NaN      NaN  \n",
              "340         4850.0  FEMALE            8.41151          -26.13832      NaN  \n",
              "341         5750.0    MALE            8.30166          -26.04117      NaN  \n",
              "342         5200.0  FEMALE            8.24246          -26.11969      NaN  \n",
              "343         5400.0    MALE            8.36390          -26.15531      NaN  "
            ],
            "text/html": [
              "\n",
              "  <div id=\"df-9e0e17f3-0772-4ac9-aae5-7eb4fc98cc35\">\n",
              "    <div class=\"colab-df-container\">\n",
              "      <div>\n",
              "<style scoped>\n",
              "    .dataframe tbody tr th:only-of-type {\n",
              "        vertical-align: middle;\n",
              "    }\n",
              "\n",
              "    .dataframe tbody tr th {\n",
              "        vertical-align: top;\n",
              "    }\n",
              "\n",
              "    .dataframe thead th {\n",
              "        text-align: right;\n",
              "    }\n",
              "</style>\n",
              "<table border=\"1\" class=\"dataframe\">\n",
              "  <thead>\n",
              "    <tr style=\"text-align: right;\">\n",
              "      <th></th>\n",
              "      <th>studyName</th>\n",
              "      <th>Sample Number</th>\n",
              "      <th>Species</th>\n",
              "      <th>Region</th>\n",
              "      <th>Island</th>\n",
              "      <th>Stage</th>\n",
              "      <th>Individual ID</th>\n",
              "      <th>Clutch Completion</th>\n",
              "      <th>Date Egg</th>\n",
              "      <th>Culmen Length (mm)</th>\n",
              "      <th>Culmen Depth (mm)</th>\n",
              "      <th>Flipper Length (mm)</th>\n",
              "      <th>Body Mass (g)</th>\n",
              "      <th>Sex</th>\n",
              "      <th>Delta 15 N (o/oo)</th>\n",
              "      <th>Delta 13 C (o/oo)</th>\n",
              "      <th>Comments</th>\n",
              "    </tr>\n",
              "  </thead>\n",
              "  <tbody>\n",
              "    <tr>\n",
              "      <th>339</th>\n",
              "      <td>PAL0910</td>\n",
              "      <td>120</td>\n",
              "      <td>Gentoo penguin (Pygoscelis papua)</td>\n",
              "      <td>Anvers</td>\n",
              "      <td>Biscoe</td>\n",
              "      <td>Adult, 1 Egg Stage</td>\n",
              "      <td>N38A2</td>\n",
              "      <td>No</td>\n",
              "      <td>12/1/09</td>\n",
              "      <td>NaN</td>\n",
              "      <td>NaN</td>\n",
              "      <td>NaN</td>\n",
              "      <td>NaN</td>\n",
              "      <td>NaN</td>\n",
              "      <td>NaN</td>\n",
              "      <td>NaN</td>\n",
              "      <td>NaN</td>\n",
              "    </tr>\n",
              "    <tr>\n",
              "      <th>340</th>\n",
              "      <td>PAL0910</td>\n",
              "      <td>121</td>\n",
              "      <td>Gentoo penguin (Pygoscelis papua)</td>\n",
              "      <td>Anvers</td>\n",
              "      <td>Biscoe</td>\n",
              "      <td>Adult, 1 Egg Stage</td>\n",
              "      <td>N39A1</td>\n",
              "      <td>Yes</td>\n",
              "      <td>11/22/09</td>\n",
              "      <td>46.8</td>\n",
              "      <td>14.3</td>\n",
              "      <td>215.0</td>\n",
              "      <td>4850.0</td>\n",
              "      <td>FEMALE</td>\n",
              "      <td>8.41151</td>\n",
              "      <td>-26.13832</td>\n",
              "      <td>NaN</td>\n",
              "    </tr>\n",
              "    <tr>\n",
              "      <th>341</th>\n",
              "      <td>PAL0910</td>\n",
              "      <td>122</td>\n",
              "      <td>Gentoo penguin (Pygoscelis papua)</td>\n",
              "      <td>Anvers</td>\n",
              "      <td>Biscoe</td>\n",
              "      <td>Adult, 1 Egg Stage</td>\n",
              "      <td>N39A2</td>\n",
              "      <td>Yes</td>\n",
              "      <td>11/22/09</td>\n",
              "      <td>50.4</td>\n",
              "      <td>15.7</td>\n",
              "      <td>222.0</td>\n",
              "      <td>5750.0</td>\n",
              "      <td>MALE</td>\n",
              "      <td>8.30166</td>\n",
              "      <td>-26.04117</td>\n",
              "      <td>NaN</td>\n",
              "    </tr>\n",
              "    <tr>\n",
              "      <th>342</th>\n",
              "      <td>PAL0910</td>\n",
              "      <td>123</td>\n",
              "      <td>Gentoo penguin (Pygoscelis papua)</td>\n",
              "      <td>Anvers</td>\n",
              "      <td>Biscoe</td>\n",
              "      <td>Adult, 1 Egg Stage</td>\n",
              "      <td>N43A1</td>\n",
              "      <td>Yes</td>\n",
              "      <td>11/22/09</td>\n",
              "      <td>45.2</td>\n",
              "      <td>14.8</td>\n",
              "      <td>212.0</td>\n",
              "      <td>5200.0</td>\n",
              "      <td>FEMALE</td>\n",
              "      <td>8.24246</td>\n",
              "      <td>-26.11969</td>\n",
              "      <td>NaN</td>\n",
              "    </tr>\n",
              "    <tr>\n",
              "      <th>343</th>\n",
              "      <td>PAL0910</td>\n",
              "      <td>124</td>\n",
              "      <td>Gentoo penguin (Pygoscelis papua)</td>\n",
              "      <td>Anvers</td>\n",
              "      <td>Biscoe</td>\n",
              "      <td>Adult, 1 Egg Stage</td>\n",
              "      <td>N43A2</td>\n",
              "      <td>Yes</td>\n",
              "      <td>11/22/09</td>\n",
              "      <td>49.9</td>\n",
              "      <td>16.1</td>\n",
              "      <td>213.0</td>\n",
              "      <td>5400.0</td>\n",
              "      <td>MALE</td>\n",
              "      <td>8.36390</td>\n",
              "      <td>-26.15531</td>\n",
              "      <td>NaN</td>\n",
              "    </tr>\n",
              "  </tbody>\n",
              "</table>\n",
              "</div>\n",
              "      <button class=\"colab-df-convert\" onclick=\"convertToInteractive('df-9e0e17f3-0772-4ac9-aae5-7eb4fc98cc35')\"\n",
              "              title=\"Convert this dataframe to an interactive table.\"\n",
              "              style=\"display:none;\">\n",
              "        \n",
              "  <svg xmlns=\"http://www.w3.org/2000/svg\" height=\"24px\"viewBox=\"0 0 24 24\"\n",
              "       width=\"24px\">\n",
              "    <path d=\"M0 0h24v24H0V0z\" fill=\"none\"/>\n",
              "    <path d=\"M18.56 5.44l.94 2.06.94-2.06 2.06-.94-2.06-.94-.94-2.06-.94 2.06-2.06.94zm-11 1L8.5 8.5l.94-2.06 2.06-.94-2.06-.94L8.5 2.5l-.94 2.06-2.06.94zm10 10l.94 2.06.94-2.06 2.06-.94-2.06-.94-.94-2.06-.94 2.06-2.06.94z\"/><path d=\"M17.41 7.96l-1.37-1.37c-.4-.4-.92-.59-1.43-.59-.52 0-1.04.2-1.43.59L10.3 9.45l-7.72 7.72c-.78.78-.78 2.05 0 2.83L4 21.41c.39.39.9.59 1.41.59.51 0 1.02-.2 1.41-.59l7.78-7.78 2.81-2.81c.8-.78.8-2.07 0-2.86zM5.41 20L4 18.59l7.72-7.72 1.47 1.35L5.41 20z\"/>\n",
              "  </svg>\n",
              "      </button>\n",
              "      \n",
              "  <style>\n",
              "    .colab-df-container {\n",
              "      display:flex;\n",
              "      flex-wrap:wrap;\n",
              "      gap: 12px;\n",
              "    }\n",
              "\n",
              "    .colab-df-convert {\n",
              "      background-color: #E8F0FE;\n",
              "      border: none;\n",
              "      border-radius: 50%;\n",
              "      cursor: pointer;\n",
              "      display: none;\n",
              "      fill: #1967D2;\n",
              "      height: 32px;\n",
              "      padding: 0 0 0 0;\n",
              "      width: 32px;\n",
              "    }\n",
              "\n",
              "    .colab-df-convert:hover {\n",
              "      background-color: #E2EBFA;\n",
              "      box-shadow: 0px 1px 2px rgba(60, 64, 67, 0.3), 0px 1px 3px 1px rgba(60, 64, 67, 0.15);\n",
              "      fill: #174EA6;\n",
              "    }\n",
              "\n",
              "    [theme=dark] .colab-df-convert {\n",
              "      background-color: #3B4455;\n",
              "      fill: #D2E3FC;\n",
              "    }\n",
              "\n",
              "    [theme=dark] .colab-df-convert:hover {\n",
              "      background-color: #434B5C;\n",
              "      box-shadow: 0px 1px 3px 1px rgba(0, 0, 0, 0.15);\n",
              "      filter: drop-shadow(0px 1px 2px rgba(0, 0, 0, 0.3));\n",
              "      fill: #FFFFFF;\n",
              "    }\n",
              "  </style>\n",
              "\n",
              "      <script>\n",
              "        const buttonEl =\n",
              "          document.querySelector('#df-9e0e17f3-0772-4ac9-aae5-7eb4fc98cc35 button.colab-df-convert');\n",
              "        buttonEl.style.display =\n",
              "          google.colab.kernel.accessAllowed ? 'block' : 'none';\n",
              "\n",
              "        async function convertToInteractive(key) {\n",
              "          const element = document.querySelector('#df-9e0e17f3-0772-4ac9-aae5-7eb4fc98cc35');\n",
              "          const dataTable =\n",
              "            await google.colab.kernel.invokeFunction('convertToInteractive',\n",
              "                                                     [key], {});\n",
              "          if (!dataTable) return;\n",
              "\n",
              "          const docLinkHtml = 'Like what you see? Visit the ' +\n",
              "            '<a target=\"_blank\" href=https://colab.research.google.com/notebooks/data_table.ipynb>data table notebook</a>'\n",
              "            + ' to learn more about interactive tables.';\n",
              "          element.innerHTML = '';\n",
              "          dataTable['output_type'] = 'display_data';\n",
              "          await google.colab.output.renderOutput(dataTable, element);\n",
              "          const docLink = document.createElement('div');\n",
              "          docLink.innerHTML = docLinkHtml;\n",
              "          element.appendChild(docLink);\n",
              "        }\n",
              "      </script>\n",
              "    </div>\n",
              "  </div>\n",
              "  "
            ]
          },
          "metadata": {},
          "execution_count": 65
        }
      ]
    },
    {
      "cell_type": "code",
      "source": [
        "dataset.drop(index=[3,339], inplace=True) \n",
        "dataset.reset_index(inplace=True, drop=True) "
      ],
      "metadata": {
        "id": "2ZmS13-7dsRP"
      },
      "execution_count": 66,
      "outputs": []
    },
    {
      "cell_type": "code",
      "source": [
        "X = dataset[['Culmen Length (mm)','Culmen Depth (mm)','Flipper Length (mm)',\t'Body Mass (g)']]\n",
        "y = dataset['Species']\n",
        "from sklearn.model_selection import train_test_split\n",
        "X_train, X_test, y_train, y_test = train_test_split(X, y, test_size=0.25, random_state=0)"
      ],
      "metadata": {
        "id": "2MHN_1cpi9jJ"
      },
      "execution_count": 69,
      "outputs": []
    },
    {
      "cell_type": "code",
      "source": [
        "from sklearn.svm import SVC\n",
        "from sklearn.metrics import confusion_matrix\n",
        "clf = SVC(kernel = 'rbf', C=2.0).fit(X_train,y_train)\n",
        "clf.predict(X_train)\n",
        "y_pred = clf.predict(X_test)"
      ],
      "metadata": {
        "id": "MsE0GDhRjAXC"
      },
      "execution_count": 70,
      "outputs": []
    },
    {
      "cell_type": "code",
      "source": [
        "plt.figure(figsize=(5,4))\n",
        "cm = confusion_matrix(y_test, y_pred)\n",
        "cm_df = pd.DataFrame(cm,\n",
        "                     index = ['Adelie','Chinstrap','Gentoo'], \n",
        "                     columns = ['Adelie','Chinstrap','Gentoo'])\n",
        "sns.heatmap(cm_df, annot=True)\n",
        "plt.title('Confusion Matrix')\n",
        "plt.ylabel('Actal Values')\n",
        "plt.xlabel('Predicted Values')\n",
        "plt.show()"
      ],
      "metadata": {
        "id": "82mIl1zPjCky",
        "colab": {
          "base_uri": "https://localhost:8080/",
          "height": 295
        },
        "outputId": "5c27b4ac-7d8e-4620-e635-5690e7e5a697"
      },
      "execution_count": 71,
      "outputs": [
        {
          "output_type": "display_data",
          "data": {
            "text/plain": [
              "<Figure size 360x288 with 2 Axes>"
            ],
            "image/png": "[encoded data removed]"
          },
          "metadata": {
            "needs_background": "light"
          }
        }
      ]
    },
    {
      "cell_type": "code",
      "source": [
        "from sklearn.model_selection import cross_val_score\n",
        "accuracies = cross_val_score(estimator = clf, X = X_train, y = y_train, cv = 10)\n",
        "print(\"Accuracy: {:.2f} %\".format(accuracies.mean()*100))"
      ],
      "metadata": {
        "id": "poTNQRABjFCa",
        "colab": {
          "base_uri": "https://localhost:8080/"
        },
        "outputId": "34e228a2-cfde-4d84-ef92-e760a5dfaf97"
      },
      "execution_count": 72,
      "outputs": [
        {
          "output_type": "stream",
          "name": "stdout",
          "text": [
            "Accuracy: 73.86 %\n"
          ]
        }
      ]
    }
  ]
}