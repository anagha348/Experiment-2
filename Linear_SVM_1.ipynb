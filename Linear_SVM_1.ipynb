{
  "nbformat": 4,
  "nbformat_minor": 0,
  "metadata": {
    "colab": {
      "name": "Linear SVM_1.ipynb",
      "provenance": []
    },
    "kernelspec": {
      "name": "python3",
      "display_name": "Python 3"
    },
    "language_info": {
      "name": "python"
    }
  },
  "cells": [
    {
      "cell_type": "code",
      "execution_count": 4,
      "metadata": {
        "colab": {
          "base_uri": "https://localhost:8080/"
        },
        "id": "3VJf06jRcUah",
        "outputId": "e11b69d1-e574-477b-f9dd-2789adcde61c"
      },
      "outputs": [
        {
          "output_type": "stream",
          "name": "stdout",
          "text": [
            "['Iris-virginica']\n",
            "Accuracy: 97.33 %\n"
          ]
        },
        {
          "output_type": "stream",
          "name": "stderr",
          "text": [
            "/usr/local/lib/python3.7/dist-packages/sklearn/base.py:451: UserWarning: X does not have valid feature names, but SVC was fitted with feature names\n",
            "  \"X does not have valid feature names, but\"\n"
          ]
        }
      ],
      "source": [
        "import pandas as pd\n",
        "data=pd.read_csv(\"/content/Iris.csv\")\n",
        "x=data[['SepalLengthCm', 'SepalWidthCm',\t'PetalLengthCm',\t'PetalWidthCm']]\n",
        "y=data['Species']\n",
        "from sklearn.svm import SVC\n",
        "clf = SVC(kernel = 'linear').fit(x,y)\n",
        "op=clf.predict([[8.2,9,5.2,6.7]])\n",
        "print(op)\n",
        "from sklearn.model_selection import cross_val_score\n",
        "accuracies = cross_val_score(estimator = clf, X = x, y = y, cv = 10)\n",
        "print(\"Accuracy: {:.2f} %\".format(accuracies.mean()*100))"
      ]
    }
  ]
}